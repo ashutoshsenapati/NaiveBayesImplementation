{
  "nbformat": 4,
  "nbformat_minor": 0,
  "metadata": {
    "colab": {
      "name": "NBComplete.ipynb",
      "provenance": []
    },
    "kernelspec": {
      "name": "python3",
      "display_name": "Python 3"
    },
    "accelerator": "TPU"
  },
  "cells": [
    {
      "cell_type": "code",
      "metadata": {
        "id": "a85wBJCohZMW",
        "colab_type": "code",
        "colab": {}
      },
      "source": [
        "#Using SKLEARN\n",
        "from sklearn import datasets\n",
        "from sklearn import metrics\n",
        "from sklearn.naive_bayes import GaussianNB\n",
        " \n",
        "dataset = datasets.load_iris()\n",
        " "
      ],
      "execution_count": 1,
      "outputs": []
    },
    {
      "cell_type": "code",
      "metadata": {
        "id": "C1K1fiOlnFcH",
        "colab_type": "code",
        "colab": {
          "base_uri": "https://localhost:8080/",
          "height": 34
        },
        "outputId": "83487800-fe55-4e3d-e112-b5f3121b0784"
      },
      "source": [
        "model = GaussianNB()\n",
        "model.fit(dataset.data, dataset.target)"
      ],
      "execution_count": 2,
      "outputs": [
        {
          "output_type": "execute_result",
          "data": {
            "text/plain": [
              "GaussianNB(priors=None, var_smoothing=1e-09)"
            ]
          },
          "metadata": {
            "tags": []
          },
          "execution_count": 2
        }
      ]
    },
    {
      "cell_type": "code",
      "metadata": {
        "id": "HwHZE7abnVb9",
        "colab_type": "code",
        "colab": {}
      },
      "source": [
        "expected = dataset.target\n",
        "predicted = model.predict(dataset.data)"
      ],
      "execution_count": null,
      "outputs": []
    },
    {
      "cell_type": "code",
      "metadata": {
        "id": "Obc3JhBNnYo3",
        "colab_type": "code",
        "colab": {
          "base_uri": "https://localhost:8080/",
          "height": 238
        },
        "outputId": "53301efd-65b4-418d-b825-c234e39e0526"
      },
      "source": [
        "print(metrics.classification_report(expected, predicted))\n",
        "print(metrics.confusion_matrix(expected, predicted))"
      ],
      "execution_count": null,
      "outputs": [
        {
          "output_type": "stream",
          "text": [
            "              precision    recall  f1-score   support\n",
            "\n",
            "           0       1.00      1.00      1.00        50\n",
            "           1       0.94      0.94      0.94        50\n",
            "           2       0.94      0.94      0.94        50\n",
            "\n",
            "    accuracy                           0.96       150\n",
            "   macro avg       0.96      0.96      0.96       150\n",
            "weighted avg       0.96      0.96      0.96       150\n",
            "\n",
            "[[50  0  0]\n",
            " [ 0 47  3]\n",
            " [ 0  3 47]]\n"
          ],
          "name": "stdout"
        }
      ]
    },
    {
      "cell_type": "code",
      "metadata": {
        "id": "tu-N4E_XnbSp",
        "colab_type": "code",
        "colab": {}
      },
      "source": [
        "#Without SKLEARN\n",
        "import csv\n",
        "import math\n",
        "import random\n",
        " \n",
        " \n",
        "def loadCsv(filename):\n",
        "  lines = csv.reader(open(r'/content/PIMA.csv'))\n",
        "  dataset = list(lines)\n",
        "  for i in range(len(dataset)):\n",
        "    dataset[i] = [float(x) for x in dataset[i]]\n",
        "  return dataset"
      ],
      "execution_count": null,
      "outputs": []
    },
    {
      "cell_type": "code",
      "metadata": {
        "id": "TBtK6CXQn6zo",
        "colab_type": "code",
        "colab": {}
      },
      "source": [
        "def splitDataset(dataset, splitRatio):\n",
        "  trainSize = int(len(dataset) * splitRatio)\n",
        "  trainSet = []\n",
        "  copy = list(dataset)\n",
        "  while len(trainSet) < trainSize:\n",
        "    index = random.randrange(len(copy))\n",
        "    trainSet.append(copy.pop(index))\n",
        "  return [trainSet, copy]"
      ],
      "execution_count": null,
      "outputs": []
    },
    {
      "cell_type": "code",
      "metadata": {
        "id": "O0EURVoboP-U",
        "colab_type": "code",
        "colab": {}
      },
      "source": [
        "def separateByClass(dataset):\n",
        "  separated = {}\n",
        "  for i in range(len(dataset)):\n",
        "    vector = dataset[i]\n",
        "    if (vector[-1] not in separated):\n",
        "      separated[vector[-1]] = []\n",
        "      separated[vector[-1]].append(vector)\n",
        "  return separated"
      ],
      "execution_count": null,
      "outputs": []
    },
    {
      "cell_type": "code",
      "metadata": {
        "id": "wN9WB9jtol2u",
        "colab_type": "code",
        "colab": {}
      },
      "source": [
        "def mean(numbers):\n",
        "  return sum(numbers)/float(len(numbers))"
      ],
      "execution_count": null,
      "outputs": []
    },
    {
      "cell_type": "code",
      "metadata": {
        "id": "XHALKEG7opdT",
        "colab_type": "code",
        "colab": {}
      },
      "source": [
        "def stdev(numbers):\n",
        "  avg = mean(numbers)\n",
        "  variance = sum([pow(x-avg,2) for x in numbers])/float(len(numbers))\n",
        "  return math.sqrt(variance)"
      ],
      "execution_count": null,
      "outputs": []
    },
    {
      "cell_type": "code",
      "metadata": {
        "id": "24jpqZ_tozNv",
        "colab_type": "code",
        "colab": {}
      },
      "source": [
        "def calculateProbability(x, mean, stdev):\n",
        "  exponent = math.exp(-(math.pow(x-mean,2)/(2*math.pow(stdev,2))))\n",
        "  return (1/(math.sqrt(2*math.pi)*stdev))*exponent"
      ],
      "execution_count": null,
      "outputs": []
    },
    {
      "cell_type": "code",
      "metadata": {
        "id": "T5pUsxNIouSm",
        "colab_type": "code",
        "colab": {}
      },
      "source": [
        "\n",
        "\n",
        "def summarize(dataset):\n",
        "  summaries = [(mean(attribute), stdev(attribute)) for attribute in zip(*dataset)]\n",
        "  del summaries[-1]\n",
        "  return summaries \n",
        "\n",
        "def summarizeByClass(dataset):\n",
        "  separated = separateByClass(dataset)\n",
        "  summaries = {}\n",
        "  for classValue, instances in separated.items():\n",
        "    summaries[classValue] = summarize(instances)\n",
        "  return summaries\n"
      ],
      "execution_count": null,
      "outputs": []
    },
    {
      "cell_type": "code",
      "metadata": {
        "id": "8xtNnFj6o38P",
        "colab_type": "code",
        "colab": {}
      },
      "source": [
        "def calculateClassProbabilities(summaries, inputVector):\n",
        "  probabilities = {}\n",
        "  for classValue, classSummaries in summaries.items():\n",
        "    probabilities[classValue] = 1\n",
        "    for i in range(len(classSummaries)):\n",
        "      mean, stdev = classSummaries[i]\n",
        "      x = inputVector[i]\n",
        "      if stdev:\n",
        "        probabilities[classValue] *= calculateProbability(x, mean, stdev)\n",
        "    return probabilities"
      ],
      "execution_count": null,
      "outputs": []
    },
    {
      "cell_type": "code",
      "metadata": {
        "id": "i9XrCLz8pEu-",
        "colab_type": "code",
        "colab": {}
      },
      "source": [
        "def predict(summaries, inputVector):\n",
        "  probabilities = calculateClassProbabilities(summaries, inputVector)\n",
        "  bestLabel, bestProb = None, -1\n",
        "  for classValue, probability in probabilities.items():\n",
        "    if bestLabel is None or probability > bestProb:\n",
        "      bestProb = probability\n",
        "      bestLabel = classValue\n",
        "  return bestLabel"
      ],
      "execution_count": null,
      "outputs": []
    },
    {
      "cell_type": "code",
      "metadata": {
        "id": "djNRTFthpdnn",
        "colab_type": "code",
        "colab": {}
      },
      "source": [
        "def getPredictions(summaries, testSet):\n",
        "  predictions = []\n",
        "  for i in range(len(testSet)):\n",
        "    result = predict(summaries, testSet[i])\n",
        "    predictions.append(result)\n",
        "  return predictions"
      ],
      "execution_count": null,
      "outputs": []
    },
    {
      "cell_type": "code",
      "metadata": {
        "id": "NpWa_jDHpufa",
        "colab_type": "code",
        "colab": {}
      },
      "source": [
        "def getAccuracy(testSet, predictions):\n",
        "  correct = 0\n",
        "  for x in range(len(testSet)):\n",
        "    if testSet[x][-1] == predictions[x]:\n",
        "      correct += 1\n",
        "  return (correct/float(len(testSet)))*100.0"
      ],
      "execution_count": null,
      "outputs": []
    },
    {
      "cell_type": "code",
      "metadata": {
        "id": "FufGvquLpzNq",
        "colab_type": "code",
        "colab": {
          "base_uri": "https://localhost:8080/",
          "height": 51
        },
        "outputId": "2779341a-f16a-455b-9db0-78526c7124b5"
      },
      "source": [
        "\n",
        "\n",
        "def main():\n",
        "  filename = '/content/PIMA.csv'\n",
        "  splitRatio = 0.62\n",
        "  dataset = loadCsv(filename)\n",
        "  trainingSet, testSet = splitDataset(dataset, splitRatio)\n",
        "  print('Split {0} rows into train = {1} and test = {2} rows'.format(len(dataset),len(trainingSet),len(testSet)))\n",
        "#prepare model\n",
        "  summaries = summarizeByClass(trainingSet)\n",
        "#test model\n",
        "  predictions = getPredictions(summaries, testSet)\n",
        "  accuracy = getAccuracy(testSet, predictions)\n",
        "  print('Accuracy: {0}%'.format(accuracy))\n",
        "main()"
      ],
      "execution_count": null,
      "outputs": [
        {
          "output_type": "stream",
          "text": [
            "Split 768 rows into train = 476 and test = 292 rows\n",
            "Accuracy: 65.41095890410958%\n"
          ],
          "name": "stdout"
        }
      ]
    },
    {
      "cell_type": "code",
      "metadata": {
        "id": "AuyM2SAtp6tC",
        "colab_type": "code",
        "colab": {}
      },
      "source": [
        ""
      ],
      "execution_count": null,
      "outputs": []
    }
  ]
}